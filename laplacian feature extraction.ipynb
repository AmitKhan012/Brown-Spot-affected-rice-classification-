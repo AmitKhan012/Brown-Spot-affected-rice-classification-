{
 "cells": [
  {
   "cell_type": "code",
   "execution_count": 1,
   "metadata": {},
   "outputs": [],
   "source": [
    "from PIL import Image\n",
    "import glob\n",
    "import numpy as np\n",
    "import scipy.ndimage.filters\n",
    "import matplotlib.pyplot as plt\n",
    "import pickle"
   ]
  },
  {
   "cell_type": "code",
   "execution_count": 2,
   "metadata": {},
   "outputs": [],
   "source": [
    "image_list_Brownspot = []"
   ]
  },
  {
   "cell_type": "code",
   "execution_count": 3,
   "metadata": {},
   "outputs": [],
   "source": [
    "for filename in glob.glob('./dataset/BrownSpot/*.jpg'):\n",
    "    im=Image.open(filename)\n",
    "    image_list_Brownspot.append(im.copy())\n",
    "    im.close()"
   ]
  },
  {
   "cell_type": "code",
   "execution_count": 4,
   "metadata": {},
   "outputs": [
    {
     "data": {
      "text/plain": [
       "523"
      ]
     },
     "execution_count": 4,
     "metadata": {},
     "output_type": "execute_result"
    }
   ],
   "source": [
    "len(image_list_Brownspot)"
   ]
  },
  {
   "cell_type": "code",
   "execution_count": 5,
   "metadata": {},
   "outputs": [],
   "source": [
    "Brownspot_lap0 = []\n",
    "Brownspot_lap1 = []\n",
    "Brownspot_lap2 = []"
   ]
  },
  {
   "cell_type": "code",
   "execution_count": 6,
   "metadata": {},
   "outputs": [],
   "source": [
    "for img in image_list_Brownspot:\n",
    "    lap = scipy.ndimage.filters.laplace(img)\n",
    "    \n",
    "    lap_mat0 = np.matrix(lap[:,:,0])\n",
    "    lap_mat1 = np.matrix(lap[:,:,1])\n",
    "    lap_mat2 = np.matrix(lap[:,:,2])\n",
    "\n",
    "    Brownspot_lap0.append(lap_mat0.sum())\n",
    "    Brownspot_lap1.append(lap_mat1.sum())\n",
    "    Brownspot_lap2.append(lap_mat2.sum())"
   ]
  },
  {
   "cell_type": "code",
   "execution_count": 8,
   "metadata": {},
   "outputs": [
    {
     "name": "stdout",
     "output_type": "stream",
     "text": [
      "523\n",
      "523\n",
      "523\n"
     ]
    }
   ],
   "source": [
    "print(len(Brownspot_lap0))\n",
    "print(len(Brownspot_lap1))\n",
    "print(len(Brownspot_lap2))"
   ]
  },
  {
   "cell_type": "code",
   "execution_count": 9,
   "metadata": {},
   "outputs": [],
   "source": [
    "with open('./pickle/Brownspot_lap0.pickle', 'wb') as handle:\n",
    "    pickle.dump(Brownspot_lap0, handle, protocol=pickle.HIGHEST_PROTOCOL)\n",
    "\n",
    "with open('./pickle/Brownspot_lap1.pickle', 'wb') as handle:\n",
    "    pickle.dump(Brownspot_lap1, handle, protocol=pickle.HIGHEST_PROTOCOL)\n",
    "    \n",
    "with open('./pickle/Brownspot_lap2.pickle', 'wb') as handle:\n",
    "    pickle.dump(Brownspot_lap2, handle, protocol=pickle.HIGHEST_PROTOCOL)"
   ]
  },
  {
   "cell_type": "code",
   "execution_count": 10,
   "metadata": {},
   "outputs": [],
   "source": [
    "image_list_Healthy = []"
   ]
  },
  {
   "cell_type": "code",
   "execution_count": 11,
   "metadata": {},
   "outputs": [],
   "source": [
    "for filename in glob.glob('./dataset/Healthy/*.jpg'):\n",
    "    im=Image.open(filename)\n",
    "    image_list_Healthy.append(im.copy())\n",
    "    im.close()"
   ]
  },
  {
   "cell_type": "code",
   "execution_count": 12,
   "metadata": {},
   "outputs": [
    {
     "data": {
      "text/plain": [
       "523"
      ]
     },
     "execution_count": 12,
     "metadata": {},
     "output_type": "execute_result"
    }
   ],
   "source": [
    "len(image_list_Healthy)"
   ]
  },
  {
   "cell_type": "code",
   "execution_count": 13,
   "metadata": {},
   "outputs": [],
   "source": [
    "Healthy_lap0 = []\n",
    "Healthy_lap1 = []\n",
    "Healthy_lap2 = []"
   ]
  },
  {
   "cell_type": "code",
   "execution_count": 14,
   "metadata": {},
   "outputs": [],
   "source": [
    "for img in image_list_Healthy:\n",
    "    lap = scipy.ndimage.filters.laplace(img)\n",
    "    \n",
    "    lap_mat0 = np.matrix(lap[:,:,0])\n",
    "    lap_mat1 = np.matrix(lap[:,:,1])\n",
    "    lap_mat2 = np.matrix(lap[:,:,2])\n",
    "\n",
    "    Healthy_lap0.append(lap_mat0.sum())\n",
    "    Healthy_lap1.append(lap_mat1.sum())\n",
    "    Healthy_lap2.append(lap_mat2.sum())"
   ]
  },
  {
   "cell_type": "code",
   "execution_count": 15,
   "metadata": {},
   "outputs": [
    {
     "name": "stdout",
     "output_type": "stream",
     "text": [
      "523\n",
      "523\n",
      "523\n"
     ]
    }
   ],
   "source": [
    "print(len(Healthy_lap0))\n",
    "print(len(Healthy_lap1))\n",
    "print(len(Healthy_lap2))"
   ]
  },
  {
   "cell_type": "code",
   "execution_count": 16,
   "metadata": {},
   "outputs": [],
   "source": [
    "with open('./pickle/Healthy_lap0.pickle', 'wb') as handle:\n",
    "    pickle.dump(Healthy_lap0, handle, protocol=pickle.HIGHEST_PROTOCOL)\n",
    "\n",
    "with open('./pickle/Healthy_lap1.pickle', 'wb') as handle:\n",
    "    pickle.dump(Healthy_lap1, handle, protocol=pickle.HIGHEST_PROTOCOL)\n",
    "    \n",
    "with open('./pickle/Healthy_lap2.pickle', 'wb') as handle:\n",
    "    pickle.dump(Healthy_lap2, handle, protocol=pickle.HIGHEST_PROTOCOL)"
   ]
  },
  {
   "cell_type": "code",
   "execution_count": null,
   "metadata": {},
   "outputs": [],
   "source": []
  }
 ],
 "metadata": {
  "kernelspec": {
   "display_name": "Python 3",
   "language": "python",
   "name": "python3"
  },
  "language_info": {
   "codemirror_mode": {
    "name": "ipython",
    "version": 3
   },
   "file_extension": ".py",
   "mimetype": "text/x-python",
   "name": "python",
   "nbconvert_exporter": "python",
   "pygments_lexer": "ipython3",
   "version": "3.7.3"
  }
 },
 "nbformat": 4,
 "nbformat_minor": 2
}

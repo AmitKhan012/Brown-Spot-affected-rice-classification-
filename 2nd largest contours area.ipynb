{
 "cells": [
  {
   "cell_type": "code",
   "execution_count": 1,
   "metadata": {},
   "outputs": [],
   "source": [
    "import cv2\n",
    "import numpy as np\n",
    "import glob\n",
    "import pickle"
   ]
  },
  {
   "cell_type": "code",
   "execution_count": 2,
   "metadata": {},
   "outputs": [],
   "source": [
    "lower = np.array([22, 42, 0])\n",
    "upper = np.array([179, 255, 255])"
   ]
  },
  {
   "cell_type": "code",
   "execution_count": 3,
   "metadata": {},
   "outputs": [],
   "source": [
    "path = \"dataset/BrownSpot/*.jpg\"\n",
    "secondLargestArea_BrownSpot = []"
   ]
  },
  {
   "cell_type": "code",
   "execution_count": 4,
   "metadata": {},
   "outputs": [],
   "source": [
    "for file in glob.glob(path):\n",
    "    frame = cv2.imread(file)\n",
    "    hsv = cv2.cvtColor(frame, cv2.COLOR_BGR2HSV)\n",
    "    mask = cv2.inRange(hsv, lower, upper)\n",
    "    cnts, hierarchy = cv2.findContours(mask, cv2.RETR_TREE, cv2.CHAIN_APPROX_SIMPLE)\n",
    "    maxArea = 0\n",
    "    secondLargestArea = 0\n",
    "    for cnt in cnts:\n",
    "        a = cv2.contourArea(cnt)\n",
    "        if maxArea < a:\n",
    "            secondLargestArea = maxArea\n",
    "            maxArea = a\n",
    "        elif secondLargestArea < a:\n",
    "            secondLargestArea = a        \n",
    "    secondLargestArea_BrownSpot.append(secondLargestArea)"
   ]
  },
  {
   "cell_type": "code",
   "execution_count": 5,
   "metadata": {},
   "outputs": [
    {
     "name": "stdout",
     "output_type": "stream",
     "text": [
      "523\n"
     ]
    }
   ],
   "source": [
    "print(len(secondLargestArea_BrownSpot))"
   ]
  },
  {
   "cell_type": "code",
   "execution_count": 6,
   "metadata": {},
   "outputs": [],
   "source": [
    "with open('./pickle/secondLargestArea_BrownSpot.pickle', 'wb') as handle:\n",
    "    pickle.dump(secondLargestArea_BrownSpot, handle, protocol=pickle.HIGHEST_PROTOCOL)"
   ]
  },
  {
   "cell_type": "code",
   "execution_count": 8,
   "metadata": {},
   "outputs": [],
   "source": [
    "path = \"dataset/Healthy/*.jpg\"\n",
    "secondLargestArea_Healthy = []"
   ]
  },
  {
   "cell_type": "code",
   "execution_count": 9,
   "metadata": {},
   "outputs": [],
   "source": [
    "for file in glob.glob(path):\n",
    "    frame = cv2.imread(file)\n",
    "    hsv = cv2.cvtColor(frame, cv2.COLOR_BGR2HSV)\n",
    "    mask = cv2.inRange(hsv, lower, upper)\n",
    "    cnts, hierarchy = cv2.findContours(mask, cv2.RETR_TREE, cv2.CHAIN_APPROX_SIMPLE)\n",
    "    maxArea = 0\n",
    "    secondLargestArea = 0\n",
    "    for cnt in cnts:\n",
    "        a = cv2.contourArea(cnt)\n",
    "        if maxArea < a:\n",
    "            secondLargestArea = maxArea\n",
    "            maxArea = a\n",
    "        elif secondLargestArea < a:\n",
    "            secondLargestArea = a        \n",
    "    secondLargestArea_Healthy.append(secondLargestArea)"
   ]
  },
  {
   "cell_type": "code",
   "execution_count": 10,
   "metadata": {},
   "outputs": [
    {
     "name": "stdout",
     "output_type": "stream",
     "text": [
      "523\n"
     ]
    }
   ],
   "source": [
    "print(len(secondLargestArea_Healthy))"
   ]
  },
  {
   "cell_type": "code",
   "execution_count": 11,
   "metadata": {},
   "outputs": [],
   "source": [
    "with open('./pickle/secondLargestArea_Healthy.pickle', 'wb') as handle:\n",
    "    pickle.dump(secondLargestArea_Healthy, handle, protocol=pickle.HIGHEST_PROTOCOL)"
   ]
  },
  {
   "cell_type": "code",
   "execution_count": null,
   "metadata": {},
   "outputs": [],
   "source": []
  }
 ],
 "metadata": {
  "kernelspec": {
   "display_name": "Python 3",
   "language": "python",
   "name": "python3"
  },
  "language_info": {
   "codemirror_mode": {
    "name": "ipython",
    "version": 3
   },
   "file_extension": ".py",
   "mimetype": "text/x-python",
   "name": "python",
   "nbconvert_exporter": "python",
   "pygments_lexer": "ipython3",
   "version": "3.7.3"
  }
 },
 "nbformat": 4,
 "nbformat_minor": 2
}

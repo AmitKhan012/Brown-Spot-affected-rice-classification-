{
 "cells": [
  {
   "cell_type": "code",
   "execution_count": 5,
   "metadata": {},
   "outputs": [],
   "source": [
    "import warnings\n",
    "warnings.filterwarnings('ignore')"
   ]
  },
  {
   "cell_type": "code",
   "execution_count": 6,
   "metadata": {},
   "outputs": [],
   "source": [
    "import numpy as np\n",
    "import pandas as pd\n",
    "import pickle\n",
    "from sklearn.model_selection import train_test_split\n",
    "from sklearn.ensemble import RandomForestClassifier\n",
    "from sklearn.externals import joblib\n",
    "from treeinterpreter import treeinterpreter as ti"
   ]
  },
  {
   "cell_type": "code",
   "execution_count": 7,
   "metadata": {},
   "outputs": [],
   "source": [
    "with open('./pickle/Brownspot_lap0.pickle', 'rb') as handle:\n",
    "    Brownspot_lap0 = pickle.load(handle)\n",
    "    \n",
    "with open('./pickle/Brownspot_lap1.pickle', 'rb') as handle:\n",
    "    Brownspot_lap1 = pickle.load(handle)\n",
    "\n",
    "with open('./pickle/Brownspot_lap2.pickle', 'rb') as handle:\n",
    "    Brownspot_lap2 = pickle.load(handle)\n",
    "    \n",
    "with open('./pickle/Healthy_lap0.pickle', 'rb') as handle:\n",
    "    Healthy_lap0 = pickle.load(handle)\n",
    "    \n",
    "with open('./pickle/Healthy_lap1.pickle', 'rb') as handle:\n",
    "    Healthy_lap1 = pickle.load(handle)\n",
    "\n",
    "with open('./pickle/Healthy_lap2.pickle', 'rb') as handle:\n",
    "    Healthy_lap2 = pickle.load(handle)\n",
    "    \n",
    "with open('./pickle/sum_of_contoursArea_BrownSpot.pickle', 'rb') as handle:\n",
    "    sum_of_contoursArea_BrownSpot = pickle.load(handle)\n",
    "\n",
    "with open('./pickle/sum_of_contoursArea_Healthy.pickle', 'rb') as handle:\n",
    "    sum_of_contoursArea_Healthy = pickle.load(handle)\n",
    "    \n",
    "with open('./pickle/secondLargestArea_BrownSpot.pickle', 'rb') as handle:\n",
    "    secondLargestArea_BrownSpot = pickle.load(handle)\n",
    "\n",
    "with open('./pickle/secondLargestArea_Healthy.pickle', 'rb') as handle:\n",
    "    secondLargestArea_Healthy = pickle.load(handle)"
   ]
  },
  {
   "cell_type": "code",
   "execution_count": 8,
   "metadata": {},
   "outputs": [
    {
     "name": "stdout",
     "output_type": "stream",
     "text": [
      "1046\n",
      "1046\n"
     ]
    }
   ],
   "source": [
    "data = []\n",
    "\n",
    "data_level = []\n",
    "\n",
    "for i in range(0, len(Brownspot_lap0)):\n",
    "    data.append([Brownspot_lap0[i], Brownspot_lap1[i], Brownspot_lap2[i], sum_of_contoursArea_BrownSpot[i], secondLargestArea_BrownSpot[i]])\n",
    "    data_level.append(0)\n",
    "    data.append([Healthy_lap0[i], Healthy_lap1[i], Healthy_lap2[i], sum_of_contoursArea_Healthy[i], secondLargestArea_Healthy[i]])\n",
    "    data_level.append(1)\n",
    "    \n",
    "print(len(data_level))\n",
    "print(len(data))"
   ]
  },
  {
   "cell_type": "code",
   "execution_count": 9,
   "metadata": {},
   "outputs": [],
   "source": [
    "ndata = np.array(data)\n",
    "ndata_level = np.array(data_level)"
   ]
  },
  {
   "cell_type": "code",
   "execution_count": 10,
   "metadata": {},
   "outputs": [],
   "source": [
    "df=pd.DataFrame({\n",
    "    'laplacian red':ndata[:,0],\n",
    "    'laplacian green':ndata[:,1],\n",
    "    'laplacian blue':ndata[:,2],\n",
    "    'sum of contours area':ndata[:,3],\n",
    "    'second largest area':ndata[:, 4],\n",
    "    'class':ndata_level[:]\n",
    "})"
   ]
  },
  {
   "cell_type": "code",
   "execution_count": 11,
   "metadata": {},
   "outputs": [],
   "source": [
    "X=df[['laplacian red', 'laplacian green', 'laplacian blue', 'sum of contours area', 'second largest area']]  # Features\n",
    "y=df['class']  # Labels"
   ]
  },
  {
   "cell_type": "code",
   "execution_count": 12,
   "metadata": {},
   "outputs": [],
   "source": [
    "X_train, X_test, y_train, y_test = train_test_split(X, y, test_size=0.2, random_state=42)"
   ]
  },
  {
   "cell_type": "code",
   "execution_count": 13,
   "metadata": {},
   "outputs": [],
   "source": [
    "model = joblib.load(\"random_forest_model.pkl\")"
   ]
  },
  {
   "cell_type": "markdown",
   "metadata": {},
   "source": [
    "# Global interpreter"
   ]
  },
  {
   "cell_type": "code",
   "execution_count": 14,
   "metadata": {},
   "outputs": [
    {
     "data": {
      "text/html": [
       "<div>\n",
       "<style scoped>\n",
       "    .dataframe tbody tr th:only-of-type {\n",
       "        vertical-align: middle;\n",
       "    }\n",
       "\n",
       "    .dataframe tbody tr th {\n",
       "        vertical-align: top;\n",
       "    }\n",
       "\n",
       "    .dataframe thead th {\n",
       "        text-align: right;\n",
       "    }\n",
       "</style>\n",
       "<table border=\"1\" class=\"dataframe\">\n",
       "  <thead>\n",
       "    <tr style=\"text-align: right;\">\n",
       "      <th></th>\n",
       "      <th>Variable</th>\n",
       "      <th>Importance</th>\n",
       "    </tr>\n",
       "  </thead>\n",
       "  <tbody>\n",
       "    <tr>\n",
       "      <th>2</th>\n",
       "      <td>laplacian blue</td>\n",
       "      <td>0.380751</td>\n",
       "    </tr>\n",
       "    <tr>\n",
       "      <th>1</th>\n",
       "      <td>laplacian green</td>\n",
       "      <td>0.258484</td>\n",
       "    </tr>\n",
       "    <tr>\n",
       "      <th>4</th>\n",
       "      <td>second largest area</td>\n",
       "      <td>0.190786</td>\n",
       "    </tr>\n",
       "    <tr>\n",
       "      <th>3</th>\n",
       "      <td>sum of contours area</td>\n",
       "      <td>0.094294</td>\n",
       "    </tr>\n",
       "    <tr>\n",
       "      <th>0</th>\n",
       "      <td>laplacian red</td>\n",
       "      <td>0.075685</td>\n",
       "    </tr>\n",
       "  </tbody>\n",
       "</table>\n",
       "</div>"
      ],
      "text/plain": [
       "               Variable  Importance\n",
       "2        laplacian blue    0.380751\n",
       "1       laplacian green    0.258484\n",
       "4   second largest area    0.190786\n",
       "3  sum of contours area    0.094294\n",
       "0         laplacian red    0.075685"
      ]
     },
     "execution_count": 14,
     "metadata": {},
     "output_type": "execute_result"
    }
   ],
   "source": [
    "pd.DataFrame({'Variable':X_train.columns,'Importance':model.feature_importances_}).sort_values('Importance', ascending=False)"
   ]
  },
  {
   "cell_type": "markdown",
   "metadata": {},
   "source": [
    "# Local interpreter"
   ]
  },
  {
   "cell_type": "code",
   "execution_count": 15,
   "metadata": {},
   "outputs": [
    {
     "data": {
      "text/html": [
       "<div>\n",
       "<style scoped>\n",
       "    .dataframe tbody tr th:only-of-type {\n",
       "        vertical-align: middle;\n",
       "    }\n",
       "\n",
       "    .dataframe tbody tr th {\n",
       "        vertical-align: top;\n",
       "    }\n",
       "\n",
       "    .dataframe thead th {\n",
       "        text-align: right;\n",
       "    }\n",
       "</style>\n",
       "<table border=\"1\" class=\"dataframe\">\n",
       "  <thead>\n",
       "    <tr style=\"text-align: right;\">\n",
       "      <th></th>\n",
       "      <th>laplacian red</th>\n",
       "      <th>laplacian green</th>\n",
       "      <th>laplacian blue</th>\n",
       "      <th>sum of contours area</th>\n",
       "      <th>second largest area</th>\n",
       "    </tr>\n",
       "  </thead>\n",
       "  <tbody>\n",
       "    <tr>\n",
       "      <th>773</th>\n",
       "      <td>9.002501e+08</td>\n",
       "      <td>7.647619e+08</td>\n",
       "      <td>4.863958e+08</td>\n",
       "      <td>3958.0</td>\n",
       "      <td>120.5</td>\n",
       "    </tr>\n",
       "    <tr>\n",
       "      <th>280</th>\n",
       "      <td>6.236210e+08</td>\n",
       "      <td>1.021138e+09</td>\n",
       "      <td>2.442687e+08</td>\n",
       "      <td>9053.5</td>\n",
       "      <td>3756.0</td>\n",
       "    </tr>\n",
       "    <tr>\n",
       "      <th>629</th>\n",
       "      <td>3.378426e+08</td>\n",
       "      <td>1.630874e+08</td>\n",
       "      <td>5.155047e+08</td>\n",
       "      <td>616.5</td>\n",
       "      <td>9.0</td>\n",
       "    </tr>\n",
       "    <tr>\n",
       "      <th>318</th>\n",
       "      <td>1.641944e+09</td>\n",
       "      <td>1.721734e+09</td>\n",
       "      <td>4.675895e+08</td>\n",
       "      <td>22684.5</td>\n",
       "      <td>8058.5</td>\n",
       "    </tr>\n",
       "    <tr>\n",
       "      <th>1008</th>\n",
       "      <td>1.598758e+08</td>\n",
       "      <td>6.181821e+07</td>\n",
       "      <td>4.505696e+07</td>\n",
       "      <td>452.0</td>\n",
       "      <td>77.5</td>\n",
       "    </tr>\n",
       "    <tr>\n",
       "      <th>912</th>\n",
       "      <td>2.812600e+08</td>\n",
       "      <td>1.997553e+08</td>\n",
       "      <td>4.125189e+08</td>\n",
       "      <td>13489.0</td>\n",
       "      <td>6621.0</td>\n",
       "    </tr>\n",
       "    <tr>\n",
       "      <th>423</th>\n",
       "      <td>7.270573e+08</td>\n",
       "      <td>5.122326e+08</td>\n",
       "      <td>1.482513e+09</td>\n",
       "      <td>2958.0</td>\n",
       "      <td>219.5</td>\n",
       "    </tr>\n",
       "    <tr>\n",
       "      <th>231</th>\n",
       "      <td>1.208226e+09</td>\n",
       "      <td>5.146671e+08</td>\n",
       "      <td>2.008415e+09</td>\n",
       "      <td>2488.0</td>\n",
       "      <td>236.5</td>\n",
       "    </tr>\n",
       "    <tr>\n",
       "      <th>458</th>\n",
       "      <td>5.142225e+08</td>\n",
       "      <td>8.507511e+08</td>\n",
       "      <td>2.097508e+08</td>\n",
       "      <td>7716.0</td>\n",
       "      <td>1652.0</td>\n",
       "    </tr>\n",
       "    <tr>\n",
       "      <th>549</th>\n",
       "      <td>4.061721e+08</td>\n",
       "      <td>2.568544e+08</td>\n",
       "      <td>6.555993e+08</td>\n",
       "      <td>215.0</td>\n",
       "      <td>16.5</td>\n",
       "    </tr>\n",
       "  </tbody>\n",
       "</table>\n",
       "</div>"
      ],
      "text/plain": [
       "      laplacian red  laplacian green  laplacian blue  sum of contours area  \\\n",
       "773    9.002501e+08     7.647619e+08    4.863958e+08                3958.0   \n",
       "280    6.236210e+08     1.021138e+09    2.442687e+08                9053.5   \n",
       "629    3.378426e+08     1.630874e+08    5.155047e+08                 616.5   \n",
       "318    1.641944e+09     1.721734e+09    4.675895e+08               22684.5   \n",
       "1008   1.598758e+08     6.181821e+07    4.505696e+07                 452.0   \n",
       "912    2.812600e+08     1.997553e+08    4.125189e+08               13489.0   \n",
       "423    7.270573e+08     5.122326e+08    1.482513e+09                2958.0   \n",
       "231    1.208226e+09     5.146671e+08    2.008415e+09                2488.0   \n",
       "458    5.142225e+08     8.507511e+08    2.097508e+08                7716.0   \n",
       "549    4.061721e+08     2.568544e+08    6.555993e+08                 215.0   \n",
       "\n",
       "      second largest area  \n",
       "773                 120.5  \n",
       "280                3756.0  \n",
       "629                   9.0  \n",
       "318                8058.5  \n",
       "1008                 77.5  \n",
       "912                6621.0  \n",
       "423                 219.5  \n",
       "231                 236.5  \n",
       "458                1652.0  \n",
       "549                  16.5  "
      ]
     },
     "execution_count": 15,
     "metadata": {},
     "output_type": "execute_result"
    }
   ],
   "source": [
    "X_test[:10]"
   ]
  },
  {
   "cell_type": "code",
   "execution_count": 16,
   "metadata": {},
   "outputs": [
    {
     "data": {
      "text/plain": [
       "773     1\n",
       "280     0\n",
       "629     1\n",
       "318     0\n",
       "1008    0\n",
       "912     0\n",
       "423     1\n",
       "231     1\n",
       "458     0\n",
       "549     1\n",
       "Name: class, dtype: int32"
      ]
     },
     "execution_count": 16,
     "metadata": {},
     "output_type": "execute_result"
    }
   ],
   "source": [
    "y_test[:10]"
   ]
  },
  {
   "cell_type": "code",
   "execution_count": 17,
   "metadata": {},
   "outputs": [],
   "source": [
    "instanceBrownspot = X_test[1:2]\n",
    "instanceHealthy = X_test[2:3]"
   ]
  },
  {
   "cell_type": "code",
   "execution_count": 18,
   "metadata": {},
   "outputs": [
    {
     "data": {
      "text/html": [
       "<div>\n",
       "<style scoped>\n",
       "    .dataframe tbody tr th:only-of-type {\n",
       "        vertical-align: middle;\n",
       "    }\n",
       "\n",
       "    .dataframe tbody tr th {\n",
       "        vertical-align: top;\n",
       "    }\n",
       "\n",
       "    .dataframe thead th {\n",
       "        text-align: right;\n",
       "    }\n",
       "</style>\n",
       "<table border=\"1\" class=\"dataframe\">\n",
       "  <thead>\n",
       "    <tr style=\"text-align: right;\">\n",
       "      <th></th>\n",
       "      <th>laplacian red</th>\n",
       "      <th>laplacian green</th>\n",
       "      <th>laplacian blue</th>\n",
       "      <th>sum of contours area</th>\n",
       "      <th>second largest area</th>\n",
       "    </tr>\n",
       "  </thead>\n",
       "  <tbody>\n",
       "    <tr>\n",
       "      <th>280</th>\n",
       "      <td>623621034.0</td>\n",
       "      <td>1.021138e+09</td>\n",
       "      <td>244268729.0</td>\n",
       "      <td>9053.5</td>\n",
       "      <td>3756.0</td>\n",
       "    </tr>\n",
       "  </tbody>\n",
       "</table>\n",
       "</div>"
      ],
      "text/plain": [
       "     laplacian red  laplacian green  laplacian blue  sum of contours area  \\\n",
       "280    623621034.0     1.021138e+09     244268729.0                9053.5   \n",
       "\n",
       "     second largest area  \n",
       "280               3756.0  "
      ]
     },
     "execution_count": 18,
     "metadata": {},
     "output_type": "execute_result"
    }
   ],
   "source": [
    "instanceBrownspot"
   ]
  },
  {
   "cell_type": "code",
   "execution_count": 19,
   "metadata": {},
   "outputs": [
    {
     "data": {
      "text/html": [
       "<div>\n",
       "<style scoped>\n",
       "    .dataframe tbody tr th:only-of-type {\n",
       "        vertical-align: middle;\n",
       "    }\n",
       "\n",
       "    .dataframe tbody tr th {\n",
       "        vertical-align: top;\n",
       "    }\n",
       "\n",
       "    .dataframe thead th {\n",
       "        text-align: right;\n",
       "    }\n",
       "</style>\n",
       "<table border=\"1\" class=\"dataframe\">\n",
       "  <thead>\n",
       "    <tr style=\"text-align: right;\">\n",
       "      <th></th>\n",
       "      <th>laplacian red</th>\n",
       "      <th>laplacian green</th>\n",
       "      <th>laplacian blue</th>\n",
       "      <th>sum of contours area</th>\n",
       "      <th>second largest area</th>\n",
       "    </tr>\n",
       "  </thead>\n",
       "  <tbody>\n",
       "    <tr>\n",
       "      <th>629</th>\n",
       "      <td>337842603.0</td>\n",
       "      <td>163087382.0</td>\n",
       "      <td>515504703.0</td>\n",
       "      <td>616.5</td>\n",
       "      <td>9.0</td>\n",
       "    </tr>\n",
       "  </tbody>\n",
       "</table>\n",
       "</div>"
      ],
      "text/plain": [
       "     laplacian red  laplacian green  laplacian blue  sum of contours area  \\\n",
       "629    337842603.0      163087382.0     515504703.0                 616.5   \n",
       "\n",
       "     second largest area  \n",
       "629                  9.0  "
      ]
     },
     "execution_count": 19,
     "metadata": {},
     "output_type": "execute_result"
    }
   ],
   "source": [
    "instanceHealthy"
   ]
  },
  {
   "cell_type": "code",
   "execution_count": 20,
   "metadata": {},
   "outputs": [
    {
     "name": "stdout",
     "output_type": "stream",
     "text": [
      "----Local Interpretation for predicting BrownSpot Image\n",
      "[[0.96686103 0.03313897]]\n",
      "[[0.48839713 0.51160287]]\n",
      "laplacian red [ 0.02405098 -0.02405098]\n",
      "laplacian green [ 0.19056941 -0.19056941]\n",
      "laplacian blue [ 0.13321194 -0.13321194]\n",
      "sum of contours area [ 0.02831206 -0.02831206]\n",
      "second largest area [ 0.10231951 -0.10231951]\n"
     ]
    }
   ],
   "source": [
    "print(\"----Local Interpretation for predicting BrownSpot Image\")\n",
    "prediction, bias, contributions = ti.predict(model, instanceBrownspot)\n",
    "print (prediction)\n",
    "print (bias)\n",
    "#print \"Feature contributions:\"\n",
    "for c, feature in zip(contributions[0], X_test.columns):\n",
    "    print (feature, c)"
   ]
  },
  {
   "cell_type": "code",
   "execution_count": 45,
   "metadata": {},
   "outputs": [
    {
     "name": "stdout",
     "output_type": "stream",
     "text": [
      "----Local Interpretation for predicting Healthy Image\n",
      "[[0.14460057 0.85539943]]\n",
      "[[0.48839713 0.51160287]]\n",
      "laplacian red [-0.05312897  0.05312897]\n",
      "laplacian green [-0.12980002  0.12980002]\n",
      "laplacian blue [ 0.03037329 -0.03037329]\n",
      "sum of contours area [-0.04717685  0.04717685]\n",
      "second largest area [-0.14406401  0.14406401]\n"
     ]
    }
   ],
   "source": [
    "print(\"----Local Interpretation for predicting Healthy Image\")\n",
    "prediction, bias, contributions = ti.predict(model, instanceHealthy)\n",
    "print (prediction)\n",
    "print (bias)\n",
    "#print \"Feature contributions:\"\n",
    "for c, feature in zip(contributions[0], X_test.columns):\n",
    "    print (feature, c)"
   ]
  },
  {
   "cell_type": "code",
   "execution_count": 42,
   "metadata": {},
   "outputs": [
    {
     "data": {
      "text/plain": [
       "(1, 2)"
      ]
     },
     "execution_count": 42,
     "metadata": {},
     "output_type": "execute_result"
    }
   ],
   "source": [
    "prediction.shape"
   ]
  }
 ],
 "metadata": {
  "kernelspec": {
   "display_name": "Python 3",
   "language": "python",
   "name": "python3"
  },
  "language_info": {
   "codemirror_mode": {
    "name": "ipython",
    "version": 3
   },
   "file_extension": ".py",
   "mimetype": "text/x-python",
   "name": "python",
   "nbconvert_exporter": "python",
   "pygments_lexer": "ipython3",
   "version": "3.7.3"
  }
 },
 "nbformat": 4,
 "nbformat_minor": 2
}
